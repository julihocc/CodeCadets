{
 "cells": [
  {
   "cell_type": "markdown",
   "source": [
    "# Booleanos y operadores\n",
    "\n",
    "## ¿Qué es un booleano?\n",
    "\n",
    "Un booleano es un tipo de dato en programación que puede tener dos valores posibles: verdadero (true) o falso (false). Se utiliza para representar valores lógicos y para tomar decisiones en la programación.\n",
    "\n",
    "Por ejemplo, si en un programa se quiere verificar si un número es mayor que otro, se puede utilizar un booleano para almacenar el resultado de esa comparación. Si el número es mayor, el booleano tendrá el valor \"verdadero\" (true), y si no es mayor, tendrá el valor \"falso\" (false).\n",
    "\n",
    "Los booleanos son muy útiles en la programación porque permiten hacer comparaciones y tomar decisiones de manera eficiente y precisa. Además, son muy sencillos de usar y se pueden combinar con otros tipos de datos y operadores para crear expresiones lógicas más complejas.\n",
    "\n",
    "En Python, el tipo de dato booleano se representa por dos valores: `True` (verdadero) y `False` (falso). Estos valores son palabras reservadas en el lenguaje y siempre deben ir escritas con la primera letra en mayúscula y las demás en minúsculas.\n",
    "\n",
    "Por ejemplo, si se quiere asignar un valor booleano a una variable en Python, se puede hacer de la siguiente manera:"
   ],
   "metadata": {
    "collapsed": false
   }
  },
  {
   "cell_type": "code",
   "execution_count": 61,
   "outputs": [],
   "source": [
    "x = True\n",
    "y = False"
   ],
   "metadata": {
    "collapsed": false
   }
  },
  {
   "cell_type": "markdown",
   "source": [
    "En este caso, la variable `x` tendría el valor booleano verdadero (`True`) y la variable `y` tendría el valor booleano falso (`False`).\n",
    "\n",
    "Los valores booleanos también se pueden utilizar en expresiones lógicas y comparaciones en Python, como por ejemplo:"
   ],
   "metadata": {
    "collapsed": false
   }
  },
  {
   "cell_type": "code",
   "execution_count": 62,
   "outputs": [],
   "source": [
    "a = 10\n",
    "b = 5\n",
    "c = a > b   # c tendrá el valor True porque a es mayor que b\n",
    "d = a == b  # d tendrá el valor False porque a no es igual a b=5"
   ],
   "metadata": {
    "collapsed": false
   }
  },
  {
   "cell_type": "markdown",
   "source": [
    "En este ejemplo, la variable c tendrá el valor verdadero (True) porque la expresión a > b es verdadera, mientras que la variable d tendrá el valor falso (False) porque la expresión a == b es falsa.\n",
    "\n",
    "En resumen, los valores booleanos en Python son verdadero (True) y falso (False) y se utilizan para representar valores lógicos y para tomar decisiones en la programación.\n",
    "\n"
   ],
   "metadata": {
    "collapsed": false
   }
  },
  {
   "cell_type": "markdown",
   "source": [
    "## Operadores de comparación\n",
    "\n",
    "En Python, los operadores de comparación se utilizan para comparar dos valores y producir un valor booleano (verdadero o falso) como resultado. Estos operadores se utilizan con frecuencia en expresiones lógicas y de control de flujo, como las estructuras de decisión (if, else, elif) y los bucles (while, for). A continuación, te explico los operadores de comparación más comunes en Python:\n",
    "\n",
    "Igualdad (==): este operador comprueba si dos valores son iguales y devuelve True si lo son, y False si no lo son. Por ejemplo:"
   ],
   "metadata": {
    "collapsed": false
   }
  },
  {
   "cell_type": "code",
   "execution_count": 63,
   "outputs": [
    {
     "data": {
      "text/plain": "False"
     },
     "execution_count": 63,
     "metadata": {},
     "output_type": "execute_result"
    }
   ],
   "source": [
    "5 == 5  # True\n",
    "5 == 6  # False"
   ],
   "metadata": {
    "collapsed": false
   }
  },
  {
   "cell_type": "markdown",
   "source": [
    "Desigualdad (!=): este operador comprueba si dos valores son diferentes y devuelve True si lo son, y False si no lo son. Por ejemplo:"
   ],
   "metadata": {
    "collapsed": false
   }
  },
  {
   "cell_type": "code",
   "execution_count": 64,
   "outputs": [
    {
     "data": {
      "text/plain": "True"
     },
     "execution_count": 64,
     "metadata": {},
     "output_type": "execute_result"
    }
   ],
   "source": [
    "5 != 5  # False\n",
    "5 != 6  # True"
   ],
   "metadata": {
    "collapsed": false
   }
  },
  {
   "cell_type": "markdown",
   "source": [
    "Mayor que (>): este operador comprueba si el primer valor es mayor que el segundo valor y devuelve True si lo es, y False si no lo es. Por ejemplo:"
   ],
   "metadata": {
    "collapsed": false
   }
  },
  {
   "cell_type": "code",
   "execution_count": 65,
   "outputs": [
    {
     "data": {
      "text/plain": "False"
     },
     "execution_count": 65,
     "metadata": {},
     "output_type": "execute_result"
    }
   ],
   "source": [
    "5 > 3  # True\n",
    "5 > 6  # False"
   ],
   "metadata": {
    "collapsed": false
   }
  },
  {
   "cell_type": "markdown",
   "source": [
    "Menor que (<): este operador comprueba si el primer valor es menor que el segundo valor y devuelve True si lo es, y False si no lo es. Por ejemplo:"
   ],
   "metadata": {
    "collapsed": false
   }
  },
  {
   "cell_type": "code",
   "execution_count": 66,
   "outputs": [
    {
     "data": {
      "text/plain": "False"
     },
     "execution_count": 66,
     "metadata": {},
     "output_type": "execute_result"
    }
   ],
   "source": [
    "5 < 7  # True\n",
    "5 < 4  # False"
   ],
   "metadata": {
    "collapsed": false
   }
  },
  {
   "cell_type": "markdown",
   "source": [
    "Mayor o igual que (>=): este operador comprueba si el primer valor es mayor o igual que el segundo valor y devuelve True si lo es, y False si no lo es. Por ejemplo:"
   ],
   "metadata": {
    "collapsed": false
   }
  },
  {
   "cell_type": "code",
   "execution_count": 67,
   "outputs": [
    {
     "data": {
      "text/plain": "False"
     },
     "execution_count": 67,
     "metadata": {},
     "output_type": "execute_result"
    }
   ],
   "source": [
    "5 >= 5  # True\n",
    "5 >= 6  # False"
   ],
   "metadata": {
    "collapsed": false
   }
  },
  {
   "cell_type": "markdown",
   "source": [
    "Menor o igual que (<=): este operador comprueba si el primer valor es menor o igual que el segundo valor y devuelve True si lo es, y False si no lo es. Por ejemplo:"
   ],
   "metadata": {
    "collapsed": false
   }
  },
  {
   "cell_type": "code",
   "execution_count": 68,
   "outputs": [
    {
     "data": {
      "text/plain": "False"
     },
     "execution_count": 68,
     "metadata": {},
     "output_type": "execute_result"
    }
   ],
   "source": [
    "5 <= 7  # True\n",
    "5 <= 4  # False"
   ],
   "metadata": {
    "collapsed": false
   }
  },
  {
   "cell_type": "markdown",
   "source": [
    "En resumen, los operadores de comparación en Python son iguales (==), desiguales (!=), mayor que (>), menor que (<), mayor o igual que (>=) y menor o igual que (<=). Estos operadores se utilizan para comparar dos valores y producir un valor booleano como resultado."
   ],
   "metadata": {
    "collapsed": false
   }
  },
  {
   "cell_type": "markdown",
   "source": [
    "## Operadores lógicos\n",
    "En Python, los operadores lógicos se utilizan para combinar expresiones booleanas y producir un valor booleano como resultado. Los operadores lógicos más comunes en Python son `and`, `or` y `not`. A continuación, te explico cada uno de ellos:\n",
    "\n",
    "`and`: este operador devuelve `True` si ambas expresiones booleanas que combina son verdaderas, y `False` en cualquier otro caso. Por ejemplo:"
   ],
   "metadata": {
    "collapsed": false
   }
  },
  {
   "cell_type": "code",
   "execution_count": 69,
   "outputs": [],
   "source": [
    "a = 10\n",
    "b = 5\n",
    "c = a > b and b > 0  # c tendrá el valor True porque ambas expresiones son verdaderas\n",
    "d = a > b and b < 0  # d tendrá el valor False porque una de las expresiones es falsa"
   ],
   "metadata": {
    "collapsed": false
   }
  },
  {
   "cell_type": "markdown",
   "source": [
    "`or`: este operador devuelve `True` si al menos una de las expresiones booleanas que combina es verdadera, y `False` en cualquier otro caso. Por ejemplo:"
   ],
   "metadata": {
    "collapsed": false
   }
  },
  {
   "cell_type": "code",
   "execution_count": 70,
   "outputs": [],
   "source": [
    "a = 10\n",
    "b = 5\n",
    "c = a > b or b < 0  # c tendrá el valor True porque al menos una expresión es verdadera\n",
    "d = a < b or b < 0  # d tendrá el valor False porque ninguna de las expresiones es verdadera"
   ],
   "metadata": {
    "collapsed": false
   }
  },
  {
   "cell_type": "markdown",
   "source": [
    "`not`: este operador invierte el valor booleano de una expresión. Por ejemplo:"
   ],
   "metadata": {
    "collapsed": false
   }
  },
  {
   "cell_type": "code",
   "execution_count": 71,
   "outputs": [],
   "source": [
    "a = 10\n",
    "b = 5\n",
    "c = not(a > b)  # c tendrá el valor False porque la expresión a > b es verdadera\n",
    "d = not(a < b)  # d tendrá el valor True porque la expresión a < b es falsa"
   ],
   "metadata": {
    "collapsed": false
   }
  },
  {
   "cell_type": "markdown",
   "source": [
    "stos operadores se utilizan con frecuencia en expresiones lógicas y de control de flujo en Python, como las estructuras de decisión (if, else, elif) y los bucles (while, for).\n",
    "\n",
    "En resumen, los operadores lógicos en Python son and, or y not. Estos operadores se utilizan para combinar expresiones booleanas y producir un valor booleano como resultado. El operador and devuelve True solo si ambas expresiones son verdaderas, el operador or devuelve True si al menos una de las expresiones es verdadera, y el operador not devuelve el valor booleano contrario al de la expresión que se le pasa como argumento."
   ],
   "metadata": {
    "collapsed": false
   }
  },
  {
   "cell_type": "markdown",
   "source": [
    "## Operadores de identidad\n",
    "\n",
    "En Python, los operadores de identidad se utilizan para comparar si dos objetos tienen la misma identidad (es decir, si se refieren al mismo objeto en la memoria). Los operadores de identidad más comunes en Python son is y is not.\n",
    "\n",
    "El operador is devuelve True si los dos objetos comparados tienen la misma identidad, y False si no la tienen. Por ejemplo:"
   ],
   "metadata": {
    "collapsed": false
   }
  },
  {
   "cell_type": "code",
   "execution_count": 72,
   "outputs": [
    {
     "name": "stdout",
     "output_type": "stream",
     "text": [
      "True\n",
      "False\n"
     ]
    }
   ],
   "source": [
    "a = [1, 2, 3]\n",
    "b = a\n",
    "c = [1, 2, 3]\n",
    "\n",
    "print(a is b)  # True, a y b se refieren al mismo objeto en la memoria\n",
    "print(a is c)  # False, a y c son objetos diferentes en la memoria\n"
   ],
   "metadata": {
    "collapsed": false
   }
  },
  {
   "cell_type": "markdown",
   "source": [
    "El operador is not devuelve True si los dos objetos comparados no tienen la misma identidad, y False si la tienen. Por ejemplo:"
   ],
   "metadata": {
    "collapsed": false
   }
  },
  {
   "cell_type": "code",
   "execution_count": 73,
   "outputs": [
    {
     "name": "stdout",
     "output_type": "stream",
     "text": [
      "False\n",
      "True\n"
     ]
    }
   ],
   "source": [
    "a = [1, 2, 3]\n",
    "b = a\n",
    "c = [1, 2, 3]\n",
    "\n",
    "print(a is not b)  # False, a y b se refieren al mismo objeto en la memoria\n",
    "print(a is not c)  # True, a y c son objetos diferentes en la memoria\n"
   ],
   "metadata": {
    "collapsed": false
   }
  },
  {
   "cell_type": "markdown",
   "source": [
    "Estos operadores de identidad son útiles para comparar objetos complejos como listas, diccionarios o clases personalizadas, ya que comparan la identidad en memoria de los objetos, en lugar de comparar solo sus valores.\n",
    "\n",
    "En resumen, los operadores de identidad en Python son is y is not. Estos operadores se utilizan para comparar si dos objetos tienen la misma identidad en memoria. El operador is devuelve True si los dos objetos tienen la misma identidad, y False si no la tienen. El operador is not devuelve True si los dos objetos no tienen la misma identidad, y False si la tienen."
   ],
   "metadata": {
    "collapsed": false
   }
  },
  {
   "cell_type": "markdown",
   "source": [
    "## Operadores de pertenencia\n",
    "\n",
    "En Python, los operadores de pertenencia se utilizan para comprobar si un objeto está contenido dentro de otro objeto. Los operadores de pertenencia más comunes en Python son in y not in.\n",
    "\n",
    "El operador in devuelve True si el primer objeto se encuentra dentro del segundo objeto, y False si no lo está. Por ejemplo:"
   ],
   "metadata": {
    "collapsed": false
   }
  },
  {
   "cell_type": "code",
   "execution_count": 74,
   "outputs": [
    {
     "name": "stdout",
     "output_type": "stream",
     "text": [
      "True\n",
      "False\n"
     ]
    }
   ],
   "source": [
    "a = [1, 2, 3]\n",
    "b = 2\n",
    "\n",
    "print(b in a)  # True, 2 se encuentra en la lista a\n",
    "print(4 in a)  # False, 4 no se encuentra en la lista a\n"
   ],
   "metadata": {
    "collapsed": false
   }
  },
  {
   "cell_type": "markdown",
   "source": [
    "El operador not in devuelve True si el primer objeto no se encuentra dentro del segundo objeto, y False si sí está. Por ejemplo:"
   ],
   "metadata": {
    "collapsed": false
   }
  },
  {
   "cell_type": "code",
   "execution_count": 75,
   "outputs": [
    {
     "name": "stdout",
     "output_type": "stream",
     "text": [
      "False\n",
      "True\n"
     ]
    }
   ],
   "source": [
    "a = [1, 2, 3]\n",
    "b = 2\n",
    "\n",
    "print(b not in a)  # False, 2 se encuentra en la lista a\n",
    "print(4 not in a)  # True, 4 no se encuentra en la lista a\n"
   ],
   "metadata": {
    "collapsed": false
   }
  },
  {
   "cell_type": "markdown",
   "source": [
    "Estos operadores de pertenencia son útiles para comprobar si un objeto está dentro de una lista, tupla, conjunto o diccionario, por ejemplo.\n",
    "\n",
    "En resumen, los operadores de pertenencia en Python son in y not in. Estos operadores se utilizan para comprobar si un objeto está contenido dentro de otro objeto. El operador in devuelve True si el primer objeto está dentro del segundo objeto, y False si no lo está. El operador not in devuelve True si el primer objeto no está dentro del segundo objeto, y False si sí está."
   ],
   "metadata": {
    "collapsed": false
   }
  }
 ],
 "metadata": {
  "kernelspec": {
   "display_name": "Python 3",
   "language": "python",
   "name": "python3"
  },
  "language_info": {
   "codemirror_mode": {
    "name": "ipython",
    "version": 2
   },
   "file_extension": ".py",
   "mimetype": "text/x-python",
   "name": "python",
   "nbconvert_exporter": "python",
   "pygments_lexer": "ipython2",
   "version": "2.7.6"
  }
 },
 "nbformat": 4,
 "nbformat_minor": 0
}
