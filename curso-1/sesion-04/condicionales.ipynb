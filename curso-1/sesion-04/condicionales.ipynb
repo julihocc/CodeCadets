{
 "cells": [
  {
   "cell_type": "markdown",
   "source": [
    "# Booleanos y condicionales\n",
    "\n",
    "## ¿Qué es un booleano?\n",
    "\n",
    "Un booleano es un tipo de dato en programación que puede tener dos valores posibles: verdadero (true) o falso (false). Se utiliza para representar valores lógicos y para tomar decisiones en la programación.\n",
    "\n",
    "Por ejemplo, si en un programa se quiere verificar si un número es mayor que otro, se puede utilizar un booleano para almacenar el resultado de esa comparación. Si el número es mayor, el booleano tendrá el valor \"verdadero\" (true), y si no es mayor, tendrá el valor \"falso\" (false).\n",
    "\n",
    "Los booleanos son muy útiles en la programación porque permiten hacer comparaciones y tomar decisiones de manera eficiente y precisa. Además, son muy sencillos de usar y se pueden combinar con otros tipos de datos y operadores para crear expresiones lógicas más complejas.\n",
    "\n",
    "En Python, el tipo de dato booleano se representa por dos valores: `True` (verdadero) y `False` (falso). Estos valores son palabras reservadas en el lenguaje y siempre deben ir escritas con la primera letra en mayúscula y las demás en minúsculas.\n",
    "\n",
    "Por ejemplo, si se quiere asignar un valor booleano a una variable en Python, se puede hacer de la siguiente manera:"
   ],
   "metadata": {
    "collapsed": false
   }
  },
  {
   "cell_type": "code",
   "execution_count": 11,
   "outputs": [],
   "source": [
    "x = True\n",
    "y = False"
   ],
   "metadata": {
    "collapsed": false
   }
  },
  {
   "cell_type": "markdown",
   "source": [
    "En este caso, la variable `x` tendría el valor booleano verdadero (`True`) y la variable `y` tendría el valor booleano falso (`False`).\n",
    "\n",
    "Los valores booleanos también se pueden utilizar en expresiones lógicas y comparaciones en Python, como por ejemplo:"
   ],
   "metadata": {
    "collapsed": false
   }
  },
  {
   "cell_type": "code",
   "execution_count": 12,
   "outputs": [],
   "source": [
    "a = 10\n",
    "b = 5\n",
    "c = a > b   # c tendrá el valor True porque a es mayor que b\n",
    "d = a == b  # d tendrá el valor False porque a no es igual a b=5"
   ],
   "metadata": {
    "collapsed": false
   }
  },
  {
   "cell_type": "markdown",
   "source": [
    "En este ejemplo, la variable c tendrá el valor verdadero (True) porque la expresión a > b es verdadera, mientras que la variable d tendrá el valor falso (False) porque la expresión a == b es falsa.\n",
    "\n",
    "En resumen, los valores booleanos en Python son verdadero (True) y falso (False) y se utilizan para representar valores lógicos y para tomar decisiones en la programación.\n",
    "\n"
   ],
   "metadata": {
    "collapsed": false
   }
  },
  {
   "cell_type": "markdown",
   "source": [
    "## Operadores de comparación\n",
    "\n",
    "En Python, los operadores de comparación se utilizan para comparar dos valores y producir un valor booleano (verdadero o falso) como resultado. Estos operadores se utilizan con frecuencia en expresiones lógicas y de control de flujo, como las estructuras de decisión (if, else, elif) y los bucles (while, for). A continuación, te explico los operadores de comparación más comunes en Python:\n",
    "\n",
    "Igualdad (==): este operador comprueba si dos valores son iguales y devuelve True si lo son, y False si no lo son. Por ejemplo:"
   ],
   "metadata": {
    "collapsed": false
   }
  },
  {
   "cell_type": "code",
   "execution_count": 13,
   "outputs": [
    {
     "data": {
      "text/plain": "False"
     },
     "execution_count": 13,
     "metadata": {},
     "output_type": "execute_result"
    }
   ],
   "source": [
    "5 == 5  # True\n",
    "5 == 6  # False"
   ],
   "metadata": {
    "collapsed": false
   }
  },
  {
   "cell_type": "markdown",
   "source": [
    "Desigualdad (!=): este operador comprueba si dos valores son diferentes y devuelve True si lo son, y False si no lo son. Por ejemplo:"
   ],
   "metadata": {
    "collapsed": false
   }
  },
  {
   "cell_type": "code",
   "execution_count": 14,
   "outputs": [
    {
     "data": {
      "text/plain": "True"
     },
     "execution_count": 14,
     "metadata": {},
     "output_type": "execute_result"
    }
   ],
   "source": [
    "5 != 5  # False\n",
    "5 != 6  # True"
   ],
   "metadata": {
    "collapsed": false
   }
  },
  {
   "cell_type": "markdown",
   "source": [
    "Mayor que (>): este operador comprueba si el primer valor es mayor que el segundo valor y devuelve True si lo es, y False si no lo es. Por ejemplo:"
   ],
   "metadata": {
    "collapsed": false
   }
  },
  {
   "cell_type": "code",
   "execution_count": 15,
   "outputs": [
    {
     "data": {
      "text/plain": "False"
     },
     "execution_count": 15,
     "metadata": {},
     "output_type": "execute_result"
    }
   ],
   "source": [
    "5 > 3  # True\n",
    "5 > 6  # False"
   ],
   "metadata": {
    "collapsed": false
   }
  },
  {
   "cell_type": "markdown",
   "source": [
    "Menor que (<): este operador comprueba si el primer valor es menor que el segundo valor y devuelve True si lo es, y False si no lo es. Por ejemplo:"
   ],
   "metadata": {
    "collapsed": false
   }
  },
  {
   "cell_type": "code",
   "execution_count": 16,
   "outputs": [
    {
     "data": {
      "text/plain": "False"
     },
     "execution_count": 16,
     "metadata": {},
     "output_type": "execute_result"
    }
   ],
   "source": [
    "5 < 7  # True\n",
    "5 < 4  # False"
   ],
   "metadata": {
    "collapsed": false
   }
  },
  {
   "cell_type": "markdown",
   "source": [
    "Mayor o igual que (>=): este operador comprueba si el primer valor es mayor o igual que el segundo valor y devuelve True si lo es, y False si no lo es. Por ejemplo:"
   ],
   "metadata": {
    "collapsed": false
   }
  },
  {
   "cell_type": "code",
   "execution_count": 17,
   "outputs": [
    {
     "data": {
      "text/plain": "False"
     },
     "execution_count": 17,
     "metadata": {},
     "output_type": "execute_result"
    }
   ],
   "source": [
    "5 >= 5  # True\n",
    "5 >= 6  # False"
   ],
   "metadata": {
    "collapsed": false
   }
  },
  {
   "cell_type": "markdown",
   "source": [
    "Menor o igual que (<=): este operador comprueba si el primer valor es menor o igual que el segundo valor y devuelve True si lo es, y False si no lo es. Por ejemplo:"
   ],
   "metadata": {
    "collapsed": false
   }
  },
  {
   "cell_type": "code",
   "execution_count": 18,
   "outputs": [
    {
     "data": {
      "text/plain": "False"
     },
     "execution_count": 18,
     "metadata": {},
     "output_type": "execute_result"
    }
   ],
   "source": [
    "5 <= 7  # True\n",
    "5 <= 4  # False"
   ],
   "metadata": {
    "collapsed": false
   }
  },
  {
   "cell_type": "markdown",
   "source": [
    "En resumen, los operadores de comparación en Python son iguales (==), desiguales (!=), mayor que (>), menor que (<), mayor o igual que (>=) y menor o igual que (<=). Estos operadores se utilizan para comparar dos valores y producir un valor booleano como resultado."
   ],
   "metadata": {
    "collapsed": false
   }
  }
 ],
 "metadata": {
  "kernelspec": {
   "display_name": "Python 3",
   "language": "python",
   "name": "python3"
  },
  "language_info": {
   "codemirror_mode": {
    "name": "ipython",
    "version": 2
   },
   "file_extension": ".py",
   "mimetype": "text/x-python",
   "name": "python",
   "nbconvert_exporter": "python",
   "pygments_lexer": "ipython2",
   "version": "2.7.6"
  }
 },
 "nbformat": 4,
 "nbformat_minor": 0
}
